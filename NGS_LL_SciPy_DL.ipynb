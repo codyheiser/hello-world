{
 "cells": [
  {
   "cell_type": "markdown",
   "metadata": {},
   "source": [
    "# SciPy 2017 Tutorials Download\n",
    "### NGS L&L 25Jul17\n",
    "\n"
   ]
  },
  {
   "cell_type": "markdown",
   "metadata": {},
   "source": [
    "### Jupyter Notebook Basics\n",
    ">To run the code in a cell, press:\n",
    ">- **Ctrl - Enter**  (stays in the current cell) *or*\n",
    ">- **Shift - Enter** (advances to the next cell)."
   ]
  },
  {
   "cell_type": "markdown",
   "metadata": {},
   "source": [
    "### Indexing in Python"
   ]
  },
  {
   "cell_type": "markdown",
   "metadata": {},
   "source": [
    "Remember that Python is zero-indexed!"
   ]
  },
  {
   "cell_type": "code",
   "execution_count": 1,
   "metadata": {},
   "outputs": [
    {
     "name": "stdout",
     "output_type": "stream",
     "text": [
      "0\n",
      "1\n",
      "2\n"
     ]
    }
   ],
   "source": [
    "for num in range(3):\n",
    "    print(num)"
   ]
  },
  {
   "cell_type": "code",
   "execution_count": 2,
   "metadata": {},
   "outputs": [
    {
     "name": "stdout",
     "output_type": "stream",
     "text": [
      "1\n",
      "2\n",
      "3\n"
     ]
    }
   ],
   "source": [
    "for num in range(3):\n",
    "    print(num + 1)"
   ]
  },
  {
   "cell_type": "code",
   "execution_count": 3,
   "metadata": {},
   "outputs": [
    {
     "name": "stdout",
     "output_type": "stream",
     "text": [
      "1\n",
      "6\n",
      "11\n"
     ]
    }
   ],
   "source": [
    "for i in range(3,15,5):\n",
    "    print(i-2)"
   ]
  },
  {
   "cell_type": "markdown",
   "metadata": {},
   "source": [
    "### Reverse a string\n",
    "\n",
    "> Write a loop that takes a string,\n",
    "> and produces a new string with the characters in reverse order,\n",
    "> so `'Newton'` becomes `'notweN'`."
   ]
  },
  {
   "cell_type": "code",
   "execution_count": 6,
   "metadata": {},
   "outputs": [
    {
     "name": "stdout",
     "output_type": "stream",
     "text": [
      "notweN\n"
     ]
    }
   ],
   "source": [
    "origstr = 'Newton'\n",
    "newStr = ''\n",
    "for i in range(len(origstr)):\n",
    "    newStr = newStr + origstr[-(i+1)]\n",
    "print(newStr)"
   ]
  },
  {
   "cell_type": "markdown",
   "metadata": {},
   "source": [
    "And there's always a *much* more efficient way of doing things in Python..."
   ]
  },
  {
   "cell_type": "code",
   "execution_count": 8,
   "metadata": {},
   "outputs": [
    {
     "name": "stdout",
     "output_type": "stream",
     "text": [
      "notweN\n"
     ]
    }
   ],
   "source": [
    "x='Newton'\n",
    "print(x[::-1])"
   ]
  },
  {
   "cell_type": "markdown",
   "metadata": {},
   "source": [
    "### Functions"
   ]
  },
  {
   "cell_type": "code",
   "execution_count": 9,
   "metadata": {
    "collapsed": true
   },
   "outputs": [],
   "source": [
    "# It's useful to include docstrings to describe what your function does\n",
    "def say_hello(time, people):\n",
    "    '''Function says a greeting. Useful for engendering goodwill'''\n",
    "    return 'Good ' + time + ', ' + people"
   ]
  },
  {
   "cell_type": "markdown",
   "metadata": {},
   "source": [
    "Including docstrings within functions automatically generates documentation"
   ]
  },
  {
   "cell_type": "code",
   "execution_count": 10,
   "metadata": {},
   "outputs": [
    {
     "name": "stdout",
     "output_type": "stream",
     "text": [
      "Help on function say_hello in module __main__:\n",
      "\n",
      "say_hello(time, people)\n",
      "    Function says a greeting. Useful for engendering goodwill\n",
      "\n"
     ]
    }
   ],
   "source": [
    "help(say_hello)"
   ]
  },
  {
   "cell_type": "code",
   "execution_count": 11,
   "metadata": {
    "collapsed": true
   },
   "outputs": [],
   "source": [
    "?say_hello"
   ]
  },
  {
   "cell_type": "markdown",
   "metadata": {},
   "source": [
    "### Arguments\n",
    ">Keyword arguments can be used to make some arguments optional by providing a default value.\n",
    ">All mandatory arguments must come first, in order."
   ]
  },
  {
   "cell_type": "code",
   "execution_count": 12,
   "metadata": {
    "collapsed": true
   },
   "outputs": [],
   "source": [
    "def say_hello(time, people='friends'):\n",
    "    return 'Good ' + time + ', ' + people"
   ]
  },
  {
   "cell_type": "code",
   "execution_count": 14,
   "metadata": {},
   "outputs": [
    {
     "data": {
      "text/plain": [
       "'Good afternoon, coworkers'"
      ]
     },
     "execution_count": 14,
     "metadata": {},
     "output_type": "execute_result"
    }
   ],
   "source": [
    "say_hello('afternoon','coworkers')"
   ]
  },
  {
   "cell_type": "markdown",
   "metadata": {},
   "source": [
    "## Test-Driven Development\n",
    "\n",
    "An assertion checks that something is true at a particular point in the program.\n",
    "The next step is to check the overall behavior of a piece of code,\n",
    "i.e.,\n",
    "to make sure that it produces the right output when it's given a particular input.\n",
    "For example,\n",
    "suppose we need to find where two or more time series overlap.\n",
    "The range of each time series is represented as a pair of numbers,\n",
    "which are the time the interval started and ended.\n",
    "The output is the largest range that they all include.\n",
    "\n",
    "Most novice programmers would solve this problem like this:\n",
    "\n",
    "1.  Write a function `range_overlap`.\n",
    "2.  Call it interactively on two or three different inputs.\n",
    "3.  If it produces the wrong answer, fix the function and re-run that test.\n",
    "\n",
    "This clearly works --- after all, thousands of scientists are doing it right now --- but\n",
    "there's a better way:\n",
    "\n",
    "1.  Write a short function for each test.\n",
    "2.  Write a `range_overlap` function that should pass those tests.\n",
    "3.  If `range_overlap` produces any wrong answers, fix it and re-run the test functions.\n",
    "\n",
    "Writing the tests *before* writing the function they exercise\n",
    "is called [test-driven development](reference.html#test-driven-development) (TDD).\n",
    "Its advocates believe it produces better code faster because:\n",
    "\n",
    "1.  If people write tests after writing the thing to be tested,\n",
    "    they are subject to confirmation bias\n",
    "2.  Writing tests helps programmers figure out what the function is actually supposed to do.\n",
    "\n",
    "Here are three test functions for `range_overlap`:"
   ]
  },
  {
   "cell_type": "code",
   "execution_count": null,
   "metadata": {
    "attributes": {
     "classes": [
      " {.python"
     ],
     "id": ""
    },
    "collapsed": true
   },
   "outputs": [],
   "source": [
    "# if given only one range, the function should return that range\n",
    "assert range_overlap([ (0.0, 1.0) ]) == (0.0, 1.0)\n",
    "\n",
    "# maximum overlap between three ranges\n",
    "assert range_overlap([ (0.0, 1.0), (0.0, 2.0), (-1.0, 1.0) ]) == (0.0, 1.0)"
   ]
  },
  {
   "cell_type": "markdown",
   "metadata": {},
   "source": [
    "exploring more edge cases:"
   ]
  },
  {
   "cell_type": "code",
   "execution_count": null,
   "metadata": {
    "attributes": {
     "classes": [
      " {.python"
     ],
     "id": ""
    },
    "collapsed": true
   },
   "outputs": [],
   "source": [
    "# no overlap between given ranges\n",
    "assert range_overlap([ (0.0, 1.0), (5.0, 6.0) ]) == None\n",
    "assert range_overlap([ (0.0, 1.0), (1.0, 2.0) ]) == None"
   ]
  },
  {
   "cell_type": "markdown",
   "metadata": {},
   "source": [
    "Now let's define our function"
   ]
  },
  {
   "cell_type": "code",
   "execution_count": 18,
   "metadata": {
    "attributes": {
     "classes": [
      " {.python"
     ],
     "id": ""
    }
   },
   "outputs": [
    {
     "name": "stdout",
     "output_type": "stream",
     "text": [
      "Help on function range_overlap in module __main__:\n",
      "\n",
      "range_overlap(ranges)\n",
      "    Return common overlap among a set of [low, high] ranges.\n",
      "\n"
     ]
    }
   ],
   "source": [
    "def range_overlap(ranges):\n",
    "    # first, give a docstring so you know what this does!\n",
    "    '''Return common overlap among a set of [low, high] ranges.'''\n",
    "    lowest = 0.0\n",
    "    highest = 1.0\n",
    "    for (low, high) in ranges:\n",
    "        lowest = max(lowest, low)\n",
    "        highest = min(highest, high)\n",
    "    #if highest <= lowest:\n",
    "    #    return 'None'\n",
    "    #else:\n",
    "        return (lowest, highest)\n",
    "\n",
    "help(range_overlap)"
   ]
  },
  {
   "cell_type": "markdown",
   "metadata": {},
   "source": [
    "We can put our previously defined assertions into a function that we use to test our overlap function"
   ]
  },
  {
   "cell_type": "code",
   "execution_count": 19,
   "metadata": {
    "attributes": {
     "classes": [
      " {.python"
     ],
     "id": ""
    },
    "collapsed": true
   },
   "outputs": [],
   "source": [
    "def test_range_overlap():\n",
    "    assert range_overlap([ (0.0, 1.0), (5.0, 6.0) ]) == 'None'\n",
    "    assert range_overlap([ (0.0, 1.0), (1.0, 2.0) ]) == 'None'\n",
    "    assert range_overlap([ (0.0, 1.0) ]) == (0.0, 1.0)\n",
    "    assert range_overlap([ (0.0, 1.0), (0.0, 2.0), (-1.0, 1.0) ]) == (0.0, 1.0)\n",
    "    print('It works!')"
   ]
  },
  {
   "cell_type": "code",
   "execution_count": 20,
   "metadata": {
    "attributes": {
     "classes": [
      " {.python"
     ],
     "id": ""
    }
   },
   "outputs": [
    {
     "ename": "AssertionError",
     "evalue": "",
     "output_type": "error",
     "traceback": [
      "\u001b[1;31m\u001b[0m",
      "\u001b[1;31mAssertionError\u001b[0mTraceback (most recent call last)",
      "\u001b[1;32m<ipython-input-20-cf9215c96457>\u001b[0m in \u001b[0;36m<module>\u001b[1;34m()\u001b[0m\n\u001b[1;32m----> 1\u001b[1;33m \u001b[0mtest_range_overlap\u001b[0m\u001b[1;33m(\u001b[0m\u001b[1;33m)\u001b[0m\u001b[1;33m\u001b[0m\u001b[0m\n\u001b[0m",
      "\u001b[1;32m<ipython-input-19-55b7a1708310>\u001b[0m in \u001b[0;36mtest_range_overlap\u001b[1;34m()\u001b[0m\n\u001b[0;32m      1\u001b[0m \u001b[1;32mdef\u001b[0m \u001b[0mtest_range_overlap\u001b[0m\u001b[1;33m(\u001b[0m\u001b[1;33m)\u001b[0m\u001b[1;33m:\u001b[0m\u001b[1;33m\u001b[0m\u001b[0m\n\u001b[1;32m----> 2\u001b[1;33m     \u001b[1;32massert\u001b[0m \u001b[0mrange_overlap\u001b[0m\u001b[1;33m(\u001b[0m\u001b[1;33m[\u001b[0m \u001b[1;33m(\u001b[0m\u001b[1;36m0.0\u001b[0m\u001b[1;33m,\u001b[0m \u001b[1;36m1.0\u001b[0m\u001b[1;33m)\u001b[0m\u001b[1;33m,\u001b[0m \u001b[1;33m(\u001b[0m\u001b[1;36m5.0\u001b[0m\u001b[1;33m,\u001b[0m \u001b[1;36m6.0\u001b[0m\u001b[1;33m)\u001b[0m \u001b[1;33m]\u001b[0m\u001b[1;33m)\u001b[0m \u001b[1;33m==\u001b[0m \u001b[1;34m'None'\u001b[0m\u001b[1;33m\u001b[0m\u001b[0m\n\u001b[0m\u001b[0;32m      3\u001b[0m     \u001b[1;32massert\u001b[0m \u001b[0mrange_overlap\u001b[0m\u001b[1;33m(\u001b[0m\u001b[1;33m[\u001b[0m \u001b[1;33m(\u001b[0m\u001b[1;36m0.0\u001b[0m\u001b[1;33m,\u001b[0m \u001b[1;36m1.0\u001b[0m\u001b[1;33m)\u001b[0m\u001b[1;33m,\u001b[0m \u001b[1;33m(\u001b[0m\u001b[1;36m1.0\u001b[0m\u001b[1;33m,\u001b[0m \u001b[1;36m2.0\u001b[0m\u001b[1;33m)\u001b[0m \u001b[1;33m]\u001b[0m\u001b[1;33m)\u001b[0m \u001b[1;33m==\u001b[0m \u001b[1;34m'None'\u001b[0m\u001b[1;33m\u001b[0m\u001b[0m\n\u001b[0;32m      4\u001b[0m     \u001b[1;32massert\u001b[0m \u001b[0mrange_overlap\u001b[0m\u001b[1;33m(\u001b[0m\u001b[1;33m[\u001b[0m \u001b[1;33m(\u001b[0m\u001b[1;36m0.0\u001b[0m\u001b[1;33m,\u001b[0m \u001b[1;36m1.0\u001b[0m\u001b[1;33m)\u001b[0m \u001b[1;33m]\u001b[0m\u001b[1;33m)\u001b[0m \u001b[1;33m==\u001b[0m \u001b[1;33m(\u001b[0m\u001b[1;36m0.0\u001b[0m\u001b[1;33m,\u001b[0m \u001b[1;36m1.0\u001b[0m\u001b[1;33m)\u001b[0m\u001b[1;33m\u001b[0m\u001b[0m\n\u001b[0;32m      5\u001b[0m     \u001b[1;32massert\u001b[0m \u001b[0mrange_overlap\u001b[0m\u001b[1;33m(\u001b[0m\u001b[1;33m[\u001b[0m \u001b[1;33m(\u001b[0m\u001b[1;36m0.0\u001b[0m\u001b[1;33m,\u001b[0m \u001b[1;36m1.0\u001b[0m\u001b[1;33m)\u001b[0m\u001b[1;33m,\u001b[0m \u001b[1;33m(\u001b[0m\u001b[1;36m0.0\u001b[0m\u001b[1;33m,\u001b[0m \u001b[1;36m2.0\u001b[0m\u001b[1;33m)\u001b[0m\u001b[1;33m,\u001b[0m \u001b[1;33m(\u001b[0m\u001b[1;33m-\u001b[0m\u001b[1;36m1.0\u001b[0m\u001b[1;33m,\u001b[0m \u001b[1;36m1.0\u001b[0m\u001b[1;33m)\u001b[0m \u001b[1;33m]\u001b[0m\u001b[1;33m)\u001b[0m \u001b[1;33m==\u001b[0m \u001b[1;33m(\u001b[0m\u001b[1;36m0.0\u001b[0m\u001b[1;33m,\u001b[0m \u001b[1;36m1.0\u001b[0m\u001b[1;33m)\u001b[0m\u001b[1;33m\u001b[0m\u001b[0m\n",
      "\u001b[1;31mAssertionError\u001b[0m: "
     ]
    }
   ],
   "source": [
    "test_range_overlap()"
   ]
  },
  {
   "cell_type": "markdown",
   "metadata": {},
   "source": [
    "# Numpy\n",
    ">Python's numerical library is useful for manipulation of large datasets in multidimensional array formats.\n",
    ">You can load and export data to and from flat files, and perform matrix-style operations."
   ]
  },
  {
   "cell_type": "code",
   "execution_count": 21,
   "metadata": {},
   "outputs": [
    {
     "data": {
      "text/plain": [
       "array([[ 0,  1,  2,  3,  4],\n",
       "       [ 5,  6,  7,  8,  9],\n",
       "       [10, 11, 12, 13, 14],\n",
       "       [15, 16, 17, 18, 19],\n",
       "       [20, 21, 22, 23, 24]])"
      ]
     },
     "execution_count": 21,
     "metadata": {},
     "output_type": "execute_result"
    }
   ],
   "source": [
    "import numpy as np\n",
    "a = np.arange(25).reshape(5,5)\n",
    "a"
   ]
  },
  {
   "cell_type": "code",
   "execution_count": 23,
   "metadata": {},
   "outputs": [
    {
     "data": {
      "text/plain": [
       "array([[10, 11, 12, 13, 14],\n",
       "       [15, 16, 17, 18, 19]])"
      ]
     },
     "execution_count": 23,
     "metadata": {},
     "output_type": "execute_result"
    }
   ],
   "source": [
    "# slicing creates a reference to memory where the original DF is stored.  Changing a slice changes the original data!\n",
    "b = a[2:4]\n",
    "b"
   ]
  },
  {
   "cell_type": "code",
   "execution_count": 24,
   "metadata": {},
   "outputs": [
    {
     "name": "stdout",
     "output_type": "stream",
     "text": [
      "b:\n",
      "[[10000    11    12    13    14]\n",
      " [   15    16    17    18    19]]\n",
      "a:\n",
      "[[    0     1     2     3     4]\n",
      " [    5     6     7     8     9]\n",
      " [10000    11    12    13    14]\n",
      " [   15    16    17    18    19]\n",
      " [   20    21    22    23    24]]\n"
     ]
    }
   ],
   "source": [
    "b[0,0] = 10000\n",
    "print('b:',b,'a:',a,sep='\\n')"
   ]
  },
  {
   "cell_type": "code",
   "execution_count": 25,
   "metadata": {},
   "outputs": [
    {
     "name": "stdout",
     "output_type": "stream",
     "text": [
      "[[ True  True  True  True  True]\n",
      " [ True  True  True  True  True]\n",
      " [False  True  True  True  True]\n",
      " [False False False False False]\n",
      " [False False False False False]]\n"
     ]
    }
   ],
   "source": [
    "# Using a mask or 'fancy indexing' creates a copy of the data that does not affect the original DF\n",
    "mask = a < 15\n",
    "print(mask)"
   ]
  },
  {
   "cell_type": "code",
   "execution_count": 26,
   "metadata": {},
   "outputs": [
    {
     "data": {
      "text/plain": [
       "array([ 0,  1,  2,  3,  4,  5,  6,  7,  8,  9, 11, 12, 13, 14])"
      ]
     },
     "execution_count": 26,
     "metadata": {},
     "output_type": "execute_result"
    }
   ],
   "source": [
    "a[mask]\n",
    "# this reshapes the data into a 'vector' or 1D array.  Just pulling it out of original DF"
   ]
  },
  {
   "cell_type": "markdown",
   "metadata": {},
   "source": [
    "### other Numpy shortcuts include:\n",
    ">np.arange()\n",
    ">np.ones()\n",
    ">np.zeros()\n",
    ">np.identity()\n",
    ">np.empty()\n",
    ">np.linspace()\n",
    ">np.logspace()"
   ]
  },
  {
   "cell_type": "code",
   "execution_count": 28,
   "metadata": {},
   "outputs": [
    {
     "data": {
      "text/plain": [
       "array([ 0.        ,  0.83333333,  1.66666667,  2.5       ,  3.33333333,\n",
       "        4.16666667,  5.        ])"
      ]
     },
     "execution_count": 28,
     "metadata": {},
     "output_type": "execute_result"
    }
   ],
   "source": [
    "np.linspace(0, 5, 7)"
   ]
  },
  {
   "cell_type": "code",
   "execution_count": 29,
   "metadata": {
    "attributes": {
     "classes": [
      " {.python"
     ],
     "id": ""
    },
    "collapsed": true,
    "scrolled": false
   },
   "outputs": [],
   "source": [
    "data = np.loadtxt(fname='inflammation-01.csv', delimiter=',')"
   ]
  },
  {
   "cell_type": "code",
   "execution_count": 33,
   "metadata": {
    "attributes": {
     "classes": [
      " {.python"
     ],
     "id": ""
    },
    "scrolled": false
   },
   "outputs": [
    {
     "data": {
      "text/plain": [
       "array([[ 0.,  0.,  1., ...,  3.,  0.,  0.],\n",
       "       [ 0.,  1.,  2., ...,  1.,  0.,  1.],\n",
       "       [ 0.,  1.,  1., ...,  2.,  1.,  1.],\n",
       "       ..., \n",
       "       [ 0.,  1.,  1., ...,  1.,  1.,  1.],\n",
       "       [ 0.,  0.,  0., ...,  0.,  2.,  0.],\n",
       "       [ 0.,  0.,  1., ...,  1.,  1.,  0.]])"
      ]
     },
     "execution_count": 33,
     "metadata": {},
     "output_type": "execute_result"
    }
   ],
   "source": [
    "data.shape\n",
    "data"
   ]
  },
  {
   "cell_type": "markdown",
   "metadata": {},
   "source": [
    "### Jupyter Notebook and Jupyter Lab \n",
    ">Allow you to manipulate and plot data in-line.  \n",
    ">Markdown makes it more useful than a normal Python interpreter, and plotting in the notebook help summarize and visualize data quickly."
   ]
  },
  {
   "cell_type": "code",
   "execution_count": 31,
   "metadata": {
    "attributes": {
     "classes": [
      " {.python"
     ],
     "id": ""
    },
    "scrolled": false
   },
   "outputs": [
    {
     "data": {
      "text/plain": [
       "<matplotlib.image.AxesImage at 0x1796662a630>"
      ]
     },
     "execution_count": 31,
     "metadata": {},
     "output_type": "execute_result"
    },
    {
     "data": {
      "image/png": "[encoded data removed]",
      "text/plain": [
       "<matplotlib.figure.Figure at 0x17964734b00>"
      ]
     },
     "metadata": {},
     "output_type": "display_data"
    }
   ],
   "source": [
    "# embed created images in python notebook page so no new tabs are created\n",
    "%matplotlib inline \n",
    "import matplotlib.pyplot\n",
    "matplotlib.pyplot.imshow(data)"
   ]
  },
  {
   "cell_type": "code",
   "execution_count": 32,
   "metadata": {
    "attributes": {
     "classes": [
      " {.python"
     ],
     "id": ""
    },
    "scrolled": false
   },
   "outputs": [
    {
     "data": {
      "text/plain": [
       "[<matplotlib.lines.Line2D at 0x17966f8b358>]"
      ]
     },
     "execution_count": 32,
     "metadata": {},
     "output_type": "execute_result"
    },
    {
     "data": {
      "image/png": "[encoded data removed]",
      "text/plain": [
       "<matplotlib.figure.Figure at 0x17966a69d68>"
      ]
     },
     "metadata": {},
     "output_type": "display_data"
    }
   ],
   "source": [
    "# quickly generate summary statistics across rows or columns using Numpy\n",
    "ave_inflammation = data.mean(axis=0)\n",
    "\n",
    "# plot these averages\n",
    "matplotlib.pyplot.plot(ave_inflammation)"
   ]
  },
  {
   "cell_type": "code",
   "execution_count": 34,
   "metadata": {
    "attributes": {
     "classes": [
      " {.python"
     ],
     "id": ""
    },
    "scrolled": false
   },
   "outputs": [
    {
     "data": {
      "image/png": "[encoded data removed]",
      "text/plain": [
       "<matplotlib.figure.Figure at 0x1796669dda0>"
      ]
     },
     "metadata": {},
     "output_type": "display_data"
    }
   ],
   "source": [
    "import numpy\n",
    "import matplotlib.pyplot\n",
    "\n",
    "data = numpy.loadtxt(fname='inflammation-01.csv', delimiter=',')\n",
    "\n",
    "fig = matplotlib.pyplot.figure(figsize=(10.0, 3.0))\n",
    "\n",
    "axes1 = fig.add_subplot(1, 3, 1)\n",
    "axes2 = fig.add_subplot(1, 3, 2)\n",
    "axes3 = fig.add_subplot(1, 3, 3)\n",
    "\n",
    "axes1.set_ylabel('average')\n",
    "axes1.plot(data.mean(axis=0))\n",
    "\n",
    "axes2.set_ylabel('max')\n",
    "axes2.plot(data.max(axis=0))\n",
    "\n",
    "axes3.set_ylabel('min')\n",
    "axes3.plot(data.min(axis=0))\n",
    "\n",
    "fig.tight_layout()\n",
    "\n",
    "matplotlib.pyplot.show(fig)"
   ]
  },
  {
   "cell_type": "markdown",
   "metadata": {},
   "source": [
    "Here's another example of loading and plotting data using Numpy"
   ]
  },
  {
   "cell_type": "code",
   "execution_count": 35,
   "metadata": {},
   "outputs": [
    {
     "name": "stdout",
     "output_type": "stream",
     "text": [
      "Prices for AAPL stock in 2008:\n",
      "[ 194.84  194.93  180.05  177.64  171.25  179.4   178.02  172.69  178.78\n",
      "  169.04  159.64  160.89  161.36  155.64  139.07  135.6   130.01  130.01\n",
      "  131.54  132.18  135.36  133.75  131.65  129.36  122.    121.24  125.48\n",
      "  129.45  124.86  129.4   127.46  124.63  122.18  123.82  121.54  119.46\n",
      "  119.74  119.15  122.96  129.91  125.02  121.73  124.62  124.49  120.93\n",
      "  122.25  119.69  127.35  126.03  127.94  126.61  126.73  132.82  129.67\n",
      "  133.27  139.53  140.98  145.06  140.25  143.01  143.5   149.53  147.49\n",
      "  151.61  153.08  155.89  152.84  151.44  154.55  147.14  147.78  148.38\n",
      "  153.7   154.49  161.04  168.16  160.2   162.89  168.94  169.73  172.24\n",
      "  175.05  173.95  180.    180.94  184.73  186.66  182.59  185.06  183.45\n",
      "  188.16  189.96  186.26  189.73  187.62  183.6   185.9   178.19  177.05\n",
      "  181.17  186.43  187.01  186.69  188.75  186.1   185.37  185.19  189.43\n",
      "  185.64  181.61  185.64  180.81  173.26  172.37  176.84  181.43  178.75\n",
      "  180.9   175.27  173.16  173.25  177.39  168.26  170.09  167.44  174.68\n",
      "  168.18  170.12  175.16  179.55  174.25  176.63  172.58  173.88  169.64\n",
      "  172.81  171.81  165.15  166.29  162.02  166.26  159.03  162.12  154.4\n",
      "  157.08  159.88  158.95  156.66  153.23  160.64  164.19  163.57  169.55\n",
      "  173.56  176.73  179.3   179.32  175.74  175.39  173.53  175.84  174.29\n",
      "  176.79  172.55  173.64  174.67  173.74  169.53  166.19  166.96  161.22\n",
      "  160.18  157.92  151.68  151.61  152.65  148.94  140.36  139.88  127.83\n",
      "  134.09  140.91  131.05  126.84  128.71  131.93  128.24  105.26  113.66\n",
      "  109.12  100.1    97.07   98.14   89.16   89.79   88.74   96.8   110.26\n",
      "  104.08   97.95  101.89   97.4    98.44   91.49   96.87   98.23   96.38\n",
      "   92.09   99.91  104.55  111.04  107.59  106.96  110.99  103.3    99.1\n",
      "   98.24   95.88   94.77   90.12   96.44   90.24   88.14   89.91   86.29\n",
      "   80.49   82.58   92.95   90.8    95.     92.67   88.93   92.47   95.9\n",
      "   91.41   94.     99.72  100.06   98.21   95.     98.27   94.75   95.43\n",
      "   89.16   89.43   90.     85.74   86.38   85.04   85.81   86.61   86.29\n",
      "   85.35]\n",
      "Returns after each day in 2008 on AAPL stock:\n"
     ]
    },
    {
     "data": {
      "image/png": "[encoded data removed]",
      "text/plain": [
       "<matplotlib.figure.Figure at 0x17966a7a198>"
      ]
     },
     "metadata": {},
     "output_type": "display_data"
    }
   ],
   "source": [
    "from numpy import arange, loadtxt, zeros\n",
    "import matplotlib.pyplot as plt\n",
    "\n",
    "prices = loadtxt(\"Numpy/calc_return/aapl_2008_close_values.csv\", usecols=[1], delimiter=\",\")\n",
    "\n",
    "print(\"Prices for AAPL stock in 2008:\")\n",
    "print(prices)\n",
    "\n",
    "# calculate return by (closeprice - previouscloseprice)/previouscloseprice\n",
    "ret = (prices[1:]-prices[:-1])/prices[:-1]\n",
    "print(\"Returns after each day in 2008 on AAPL stock:\")\n",
    "\n",
    "base = zeros(len(ret))\n",
    "\n",
    "plt.plot(ret)\n",
    "plt.plot(base)\n",
    "plt.show()"
   ]
  },
  {
   "cell_type": "code",
   "execution_count": 36,
   "metadata": {},
   "outputs": [
    {
     "data": {
      "image/png": "[encoded data removed]",
      "text/plain": [
       "<matplotlib.figure.Figure at 0x179647b2400>"
      ]
     },
     "metadata": {},
     "output_type": "display_data"
    }
   ],
   "source": [
    "plt.plot(prices)\n",
    "plt.show()"
   ]
  },
  {
   "cell_type": "code",
   "execution_count": 37,
   "metadata": {},
   "outputs": [
    {
     "name": "stdout",
     "output_type": "stream",
     "text": [
      "[ True  True  True  True False  True  True False  True False False False\n",
      " False False False False False False False False False False False False\n",
      " False False False False False False False False False False False False\n",
      " False False False False False False False False False False False False\n",
      " False False False False False False False False False False False False\n",
      " False False False False False False False False False False False False\n",
      " False False False False False False False False False  True False  True\n",
      "  True  True  True  True  True  True  True  True  True  True  True  True\n",
      "  True  True  True  True  True  True  True  True  True  True  True  True\n",
      "  True  True  True  True False False  True  True  True  True  True False\n",
      " False  True False False False False False False  True  True False  True\n",
      " False False False False False False False False False False False False\n",
      " False False False False False False False False False False  True  True\n",
      "  True  True  True False  True False  True False False False False False\n",
      " False False False False False False False False False False False False\n",
      " False False False False False False False False False False False False\n",
      " False False False False False False False False False False False False\n",
      " False False False False False False False False False False False False\n",
      " False False False False False False False False False False False False\n",
      " False False False False False False False False False False False False\n",
      " False False False False False False False False False False False False\n",
      " False]\n"
     ]
    },
    {
     "data": {
      "text/plain": [
       "array([ 194.84,  194.93,  180.05,  177.64,  179.4 ,  178.02,  178.78,\n",
       "        175.05,  180.  ,  180.94,  184.73,  186.66,  182.59,  185.06,\n",
       "        183.45,  188.16,  189.96,  186.26,  189.73,  187.62,  183.6 ,\n",
       "        185.9 ,  178.19,  177.05,  181.17,  186.43,  187.01,  186.69,\n",
       "        188.75,  186.1 ,  185.37,  185.19,  189.43,  185.64,  181.61,\n",
       "        185.64,  180.81,  176.84,  181.43,  178.75,  180.9 ,  175.27,\n",
       "        177.39,  175.16,  179.55,  176.63,  176.73,  179.3 ,  179.32,\n",
       "        175.74,  175.39,  175.84,  176.79])"
      ]
     },
     "execution_count": 37,
     "metadata": {},
     "output_type": "execute_result"
    }
   ],
   "source": [
    "# use a mask to pick out all the days where the price closed above $175\n",
    "closeabove150 = prices > 175\n",
    "print(closeabove150)\n",
    "prices[closeabove150]"
   ]
  },
  {
   "cell_type": "markdown",
   "metadata": {},
   "source": [
    "## Loading files using Numpy\n",
    ">Numpy allows you to easily load and reformat flat files at once.\n",
    ">This is useful for ignoring header information or comments within the file, so you can easily access data that doesn't have to be optimally 'hygenic'"
   ]
  },
  {
   "cell_type": "code",
   "execution_count": 38,
   "metadata": {},
   "outputs": [
    {
     "data": {
      "text/plain": [
       "array([[   1,    1, 2000,   30],\n",
       "       [   2,    1, 2000,   41],\n",
       "       [   4,    1, 2000,   55],\n",
       "       [   5,    1, 2000,   78],\n",
       "       [   6,    1, 2000,  134],\n",
       "       [   7,    1, 2000,   42]], dtype=int64)"
      ]
     },
     "execution_count": 38,
     "metadata": {},
     "output_type": "execute_result"
    }
   ],
   "source": [
    "# here is what the file looks like:\n",
    "'''\n",
    "-- THIS IS THE BEGINNING OF THE FILE --\n",
    "% This is a more complex file to read!\n",
    "\n",
    "% Day,  Month,  Year, Useless Col, Avg Power\n",
    "   01,     01,  2000,      ad766,         30\n",
    "   02,     01,  2000,       t873,         41\n",
    "% we don't have Jan 03rd!\n",
    "   04,     01,  2000,       r441,         55\n",
    "   05,     01,  2000,       s345,         78\n",
    "   06,     01,  2000,       x273,        134 % that day was crazy\n",
    "   07,     01,  2000,       x355,         42\n",
    "\n",
    "%-- THIS IS THE END OF THE FILE --\n",
    "'''\n",
    "\n",
    "# Load text/CSV file directly into Numpy array\n",
    "# skip the first row and the 'useless' column, ignore comments and empty lines\n",
    "arr = np.loadtxt('complex_data_file.txt', skiprows=1, delimiter=',', usecols=(0,1,2,4), comments='%', dtype='int64')\n",
    "arr"
   ]
  },
  {
   "cell_type": "markdown",
   "metadata": {},
   "source": [
    ">This quick loading and cleaning of data is immediately useful.  Let's look at an allSNVs.csv file from a large ERBB2 run.  This file would be too large to open in Excel, but Numpy can handle it with ease and provide us with only the information we want"
   ]
  },
  {
   "cell_type": "code",
   "execution_count": 39,
   "metadata": {},
   "outputs": [
    {
     "name": "stdout",
     "output_type": "stream",
     "text": [
      "[[\"b'D00029-1-1-AIL099-34915dec54'\" \"b'1_192134426_T_A'\" \"b'T'\" \"b'A'\"\n",
      "  \"b'FALSE'\"]\n",
      " [\"b'D00029-1-1-AIL099-34915dec54'\" \"b'1_192134426_T_C'\" \"b'T'\" \"b'C'\"\n",
      "  \"b'FALSE'\"]\n",
      " [\"b'D00029-1-1-AIL099-34915dec54'\" \"b'1_192134426_T_G'\" \"b'T'\" \"b'G'\"\n",
      "  \"b'FALSE'\"]\n",
      " [\"b'D00029-1-1-AIL099-34915dec54'\" \"b'1_192134427_C_A'\" \"b'C'\" \"b'A'\"\n",
      "  \"b'FALSE'\"]]\n"
     ]
    }
   ],
   "source": [
    "# the AllSNVs.CSV file headers look like this:\n",
    "'''\n",
    "Sample,MutationID,Chromosome,Position,ReferenceBase,AlternateBase,Qual,Filter,Hypothesis,DepthOfCoverage,PercentVariant,PredictedVariant,FunctionalCopiesSample,PercentWildType,LowerBoundWildType,QScoreTrimean,QCorrectedPercentVariant,EndMuts,EndTotal,ReadEndEffect,PositionEffect,StrandBias,MateConcordance,SuraScore,QuantidexCallerScore,SuraScoreNB,BG95,C100,C1000,C500,CMuts,CovRatio,Coverage25Percentile,Coverage75Percentile,DMuts,DOWN10.CSize,DOWN10.DiEntropy,DOWN10.Entropy,DOWN10.GC,DOWN10.HomPol,DOWN15.CSize,DOWN15.DiEntropy,DOWN15.Entropy,DOWN15.GC,DOWN15.HomPol,DOWN20.CSize,DOWN20.DiEntropy,DOWN20.Entropy,DOWN20.GC,DOWN20.HomPol,DOWN5.CSize,DOWN5.DiEntropy,DOWN5.Entropy,DOWN5.GC,DOWN5.HomPol,HypBG95,IQRCoverage,LowerBoundWildType,MAF,MedianCoverage,MinusMutants,MinusOther,MutatedBaseCount,PlusMutants,PlusOther,QScore50Percentile,SuraScoreBB,SuraScoreNBPooled,SuraScoreSelective,TotalPairs,UP10.CSize,UP10.DiEntropy,UP10.Entropy,UP10.GC,UP10.HomPol,UP15.CSize,UP15.DiEntropy,UP15.Entropy,UP15.GC,UP15.HomPol,UP20.CSize,UP20.DiEntropy,UP20.Entropy,UP20.GC,UP20.HomPol,UP5.CSize,UP5.DiEntropy,UP5.Entropy,UP5.GC,UP5.HomPol,RoiEndMuts,RoiEndTotal,RoiMutantPositionMode,RoiOtherPositionMode,RoiPositionEffect,RoiReadEndEffect,COSMICID,CDSCOSMIC,AACOSMIC,SNPID,SNPBuild,MAF,EnsemblGeneSymbol,EnsemblTranscriptID,EnsemblAminoAcidLength,Effect,EffectImpact,FunctionalClass,FeatureRank,CDSChange,AminoAcidChange\n",
    "'''\n",
    "\n",
    "# let's load the sample names, mutation ID, reference and alternate base for the SNV, \n",
    "# and whether or not the SNV is called for the given sample.\n",
    "allsnvs = np.loadtxt('MS442allsnvs.csv', \n",
    "                     skiprows=1, delimiter=',', usecols=(0,1,4,5,11), \n",
    "                     dtype=str)\n",
    "print(allsnvs[0:4])"
   ]
  },
  {
   "cell_type": "markdown",
   "metadata": {},
   "source": [
    "### Pandas \n",
    "This package is built on top of Numpy and deals with dataframes much more elegantly"
   ]
  },
  {
   "cell_type": "code",
   "execution_count": 40,
   "metadata": {
    "collapsed": true
   },
   "outputs": [],
   "source": [
    "import pandas as pd"
   ]
  },
  {
   "cell_type": "code",
   "execution_count": 41,
   "metadata": {
    "scrolled": true
   },
   "outputs": [
    {
     "name": "stderr",
     "output_type": "stream",
     "text": [
      "C:\\Users\\cheiser\\AppData\\Local\\Continuum\\Anaconda3\\lib\\site-packages\\IPython\\core\\interactiveshell.py:2723: DtypeWarning: Columns (25) have mixed types. Specify dtype option on import or set low_memory=False.\n",
      "  interactivity=interactivity, compiler=compiler, result=result)\n"
     ]
    },
    {
     "data": {
      "text/html": [
       "<div>\n",
       "<table border=\"1\" class=\"dataframe\">\n",
       "  <thead>\n",
       "    <tr style=\"text-align: right;\">\n",
       "      <th></th>\n",
       "      <th>Sample</th>\n",
       "      <th>MutationID</th>\n",
       "      <th>Chromosome</th>\n",
       "      <th>Position</th>\n",
       "      <th>ReferenceBase</th>\n",
       "      <th>AlternateBase</th>\n",
       "      <th>Qual</th>\n",
       "      <th>Filter</th>\n",
       "      <th>Hypothesis</th>\n",
       "      <th>DepthOfCoverage</th>\n",
       "      <th>...</th>\n",
       "      <th>MAF.1</th>\n",
       "      <th>EnsemblGeneSymbol</th>\n",
       "      <th>EnsemblTranscriptID</th>\n",
       "      <th>EnsemblAminoAcidLength</th>\n",
       "      <th>Effect</th>\n",
       "      <th>EffectImpact</th>\n",
       "      <th>FunctionalClass</th>\n",
       "      <th>FeatureRank</th>\n",
       "      <th>CDSChange</th>\n",
       "      <th>AminoAcidChange</th>\n",
       "    </tr>\n",
       "  </thead>\n",
       "  <tbody>\n",
       "    <tr>\n",
       "      <th>0</th>\n",
       "      <td>D00029-1-1-AIL099-34915dec54</td>\n",
       "      <td>1_192134426_T_A</td>\n",
       "      <td>1</td>\n",
       "      <td>192134426</td>\n",
       "      <td>T</td>\n",
       "      <td>A</td>\n",
       "      <td>.</td>\n",
       "      <td>.</td>\n",
       "      <td>T&gt;A</td>\n",
       "      <td>5767</td>\n",
       "      <td>...</td>\n",
       "      <td>.</td>\n",
       "      <td>RGS18</td>\n",
       "      <td>ENST00000367460</td>\n",
       "      <td>236</td>\n",
       "      <td>INTRON</td>\n",
       "      <td>MODIFIER</td>\n",
       "      <td>SILENT</td>\n",
       "      <td>3</td>\n",
       "      <td>c.283+4857T&gt;A</td>\n",
       "      <td>p.?</td>\n",
       "    </tr>\n",
       "    <tr>\n",
       "      <th>1</th>\n",
       "      <td>D00029-1-1-AIL099-34915dec54</td>\n",
       "      <td>1_192134426_T_C</td>\n",
       "      <td>1</td>\n",
       "      <td>192134426</td>\n",
       "      <td>T</td>\n",
       "      <td>C</td>\n",
       "      <td>.</td>\n",
       "      <td>.</td>\n",
       "      <td>T&gt;C</td>\n",
       "      <td>5767</td>\n",
       "      <td>...</td>\n",
       "      <td>.</td>\n",
       "      <td>RGS18</td>\n",
       "      <td>ENST00000367460</td>\n",
       "      <td>236</td>\n",
       "      <td>INTRON</td>\n",
       "      <td>MODIFIER</td>\n",
       "      <td>SILENT</td>\n",
       "      <td>3</td>\n",
       "      <td>c.283+4857T&gt;C</td>\n",
       "      <td>p.?</td>\n",
       "    </tr>\n",
       "    <tr>\n",
       "      <th>2</th>\n",
       "      <td>D00029-1-1-AIL099-34915dec54</td>\n",
       "      <td>1_192134426_T_G</td>\n",
       "      <td>1</td>\n",
       "      <td>192134426</td>\n",
       "      <td>T</td>\n",
       "      <td>G</td>\n",
       "      <td>.</td>\n",
       "      <td>.</td>\n",
       "      <td>T&gt;G</td>\n",
       "      <td>5767</td>\n",
       "      <td>...</td>\n",
       "      <td>.</td>\n",
       "      <td>RGS18</td>\n",
       "      <td>ENST00000367460</td>\n",
       "      <td>236</td>\n",
       "      <td>INTRON</td>\n",
       "      <td>MODIFIER</td>\n",
       "      <td>SILENT</td>\n",
       "      <td>3</td>\n",
       "      <td>c.283+4857T&gt;G</td>\n",
       "      <td>p.?</td>\n",
       "    </tr>\n",
       "    <tr>\n",
       "      <th>3</th>\n",
       "      <td>D00029-1-1-AIL099-34915dec54</td>\n",
       "      <td>1_192134427_C_A</td>\n",
       "      <td>1</td>\n",
       "      <td>192134427</td>\n",
       "      <td>C</td>\n",
       "      <td>A</td>\n",
       "      <td>.</td>\n",
       "      <td>.</td>\n",
       "      <td>C&gt;A</td>\n",
       "      <td>8267</td>\n",
       "      <td>...</td>\n",
       "      <td>.</td>\n",
       "      <td>RGS18</td>\n",
       "      <td>ENST00000367460</td>\n",
       "      <td>236</td>\n",
       "      <td>INTRON</td>\n",
       "      <td>MODIFIER</td>\n",
       "      <td>SILENT</td>\n",
       "      <td>3</td>\n",
       "      <td>c.283+4858C&gt;A</td>\n",
       "      <td>p.?</td>\n",
       "    </tr>\n",
       "    <tr>\n",
       "      <th>4</th>\n",
       "      <td>D00029-1-1-AIL099-34915dec54</td>\n",
       "      <td>1_192134427_C_G</td>\n",
       "      <td>1</td>\n",
       "      <td>192134427</td>\n",
       "      <td>C</td>\n",
       "      <td>G</td>\n",
       "      <td>.</td>\n",
       "      <td>.</td>\n",
       "      <td>C&gt;G</td>\n",
       "      <td>8267</td>\n",
       "      <td>...</td>\n",
       "      <td>.</td>\n",
       "      <td>RGS18</td>\n",
       "      <td>ENST00000367460</td>\n",
       "      <td>236</td>\n",
       "      <td>INTRON</td>\n",
       "      <td>MODIFIER</td>\n",
       "      <td>SILENT</td>\n",
       "      <td>3</td>\n",
       "      <td>c.283+4858C&gt;G</td>\n",
       "      <td>p.?</td>\n",
       "    </tr>\n",
       "  </tbody>\n",
       "</table>\n",
       "<p>5 rows × 111 columns</p>\n",
       "</div>"
      ],
      "text/plain": [
       "                         Sample       MutationID  Chromosome   Position  \\\n",
       "0  D00029-1-1-AIL099-34915dec54  1_192134426_T_A           1  192134426   \n",
       "1  D00029-1-1-AIL099-34915dec54  1_192134426_T_C           1  192134426   \n",
       "2  D00029-1-1-AIL099-34915dec54  1_192134426_T_G           1  192134426   \n",
       "3  D00029-1-1-AIL099-34915dec54  1_192134427_C_A           1  192134427   \n",
       "4  D00029-1-1-AIL099-34915dec54  1_192134427_C_G           1  192134427   \n",
       "\n",
       "  ReferenceBase AlternateBase Qual Filter Hypothesis  DepthOfCoverage  \\\n",
       "0             T             A    .      .        T>A             5767   \n",
       "1             T             C    .      .        T>C             5767   \n",
       "2             T             G    .      .        T>G             5767   \n",
       "3             C             A    .      .        C>A             8267   \n",
       "4             C             G    .      .        C>G             8267   \n",
       "\n",
       "        ...        MAF.1 EnsemblGeneSymbol  EnsemblTranscriptID  \\\n",
       "0       ...            .             RGS18      ENST00000367460   \n",
       "1       ...            .             RGS18      ENST00000367460   \n",
       "2       ...            .             RGS18      ENST00000367460   \n",
       "3       ...            .             RGS18      ENST00000367460   \n",
       "4       ...            .             RGS18      ENST00000367460   \n",
       "\n",
       "   EnsemblAminoAcidLength  Effect  EffectImpact  FunctionalClass FeatureRank  \\\n",
       "0                     236  INTRON      MODIFIER           SILENT           3   \n",
       "1                     236  INTRON      MODIFIER           SILENT           3   \n",
       "2                     236  INTRON      MODIFIER           SILENT           3   \n",
       "3                     236  INTRON      MODIFIER           SILENT           3   \n",
       "4                     236  INTRON      MODIFIER           SILENT           3   \n",
       "\n",
       "       CDSChange AminoAcidChange  \n",
       "0  c.283+4857T>A             p.?  \n",
       "1  c.283+4857T>C             p.?  \n",
       "2  c.283+4857T>G             p.?  \n",
       "3  c.283+4858C>A             p.?  \n",
       "4  c.283+4858C>G             p.?  \n",
       "\n",
       "[5 rows x 111 columns]"
      ]
     },
     "execution_count": 41,
     "metadata": {},
     "output_type": "execute_result"
    }
   ],
   "source": [
    "MS442 = pd.read_csv('MS442allsnvs.csv')\n",
    "MS442.head()"
   ]
  },
  {
   "cell_type": "code",
   "execution_count": 43,
   "metadata": {},
   "outputs": [],
   "source": [
    "mydata = MS442[(MS442.PercentVariant > 0.5) & (MS442.DepthOfCoverage > 500)]\n"
   ]
  },
  {
   "cell_type": "code",
   "execution_count": 44,
   "metadata": {},
   "outputs": [
    {
     "data": {
      "text/plain": [
       "57        1.659322\n",
       "65        1.659322\n",
       "314       1.659322\n",
       "6499      1.659322\n",
       "6727      1.659322\n",
       "6785      1.659322\n",
       "7056      1.659322\n",
       "7137      1.750847\n",
       "7145      1.750847\n",
       "7394      1.750847\n",
       "7535      1.750847\n",
       "7789      1.750847\n",
       "7796      1.750847\n",
       "7819      1.750847\n",
       "7844      1.750847\n",
       "9130      1.750847\n",
       "13579     1.750847\n",
       "13807     1.750847\n",
       "14217     1.981356\n",
       "14225     1.981356\n",
       "14424     1.981356\n",
       "14474     1.981356\n",
       "14615     1.981356\n",
       "16210     1.981356\n",
       "21216     1.981356\n",
       "21297     1.701695\n",
       "21305     1.701695\n",
       "21554     1.701695\n",
       "27583     1.701695\n",
       "28025     1.701695\n",
       "            ...   \n",
       "424865    1.999153\n",
       "425064    1.999153\n",
       "425114    1.999153\n",
       "431299    1.999153\n",
       "431527    1.999153\n",
       "431585    1.999153\n",
       "431856    1.999153\n",
       "431945    1.999153\n",
       "432144    1.999153\n",
       "432194    1.999153\n",
       "432335    1.999153\n",
       "438223    1.999153\n",
       "438379    1.999153\n",
       "438607    1.999153\n",
       "439025    1.999153\n",
       "439224    1.999153\n",
       "441010    1.999153\n",
       "445303    1.999153\n",
       "446016    1.999153\n",
       "460257    1.759322\n",
       "460265    1.759322\n",
       "460464    1.759322\n",
       "460514    1.759322\n",
       "460655    1.759322\n",
       "466927    1.759322\n",
       "467337    2.000000\n",
       "467345    2.000000\n",
       "467544    2.000000\n",
       "467594    2.000000\n",
       "467735    2.000000\n",
       "Name: C1000, dtype: float64"
      ]
     },
     "execution_count": 44,
     "metadata": {},
     "output_type": "execute_result"
    }
   ],
   "source": [
    "mydata.C1000*2"
   ]
  },
  {
   "cell_type": "code",
   "execution_count": 45,
   "metadata": {
    "collapsed": true
   },
   "outputs": [],
   "source": [
    "def myfunc(x):\n",
    "    if x < 0:\n",
    "        return('negative')\n",
    "    else:\n",
    "        return('positive')"
   ]
  },
  {
   "cell_type": "code",
   "execution_count": 48,
   "metadata": {
    "scrolled": true
   },
   "outputs": [
    {
     "ename": "TypeError",
     "evalue": "unorderable types: str() < int()",
     "output_type": "error",
     "traceback": [
      "\u001b[1;31m\u001b[0m",
      "\u001b[1;31mTypeError\u001b[0mTraceback (most recent call last)",
      "\u001b[1;32m<ipython-input-48-1d55c45cab67>\u001b[0m in \u001b[0;36m<module>\u001b[1;34m()\u001b[0m\n\u001b[1;32m----> 1\u001b[1;33m \u001b[0mmyfunc\u001b[0m\u001b[1;33m(\u001b[0m\u001b[1;34m'a'\u001b[0m\u001b[1;33m)\u001b[0m\u001b[1;33m\u001b[0m\u001b[0m\n\u001b[0m",
      "\u001b[1;32m<ipython-input-45-aca40746f1d8>\u001b[0m in \u001b[0;36mmyfunc\u001b[1;34m(x)\u001b[0m\n\u001b[0;32m      1\u001b[0m \u001b[1;32mdef\u001b[0m \u001b[0mmyfunc\u001b[0m\u001b[1;33m(\u001b[0m\u001b[0mx\u001b[0m\u001b[1;33m)\u001b[0m\u001b[1;33m:\u001b[0m\u001b[1;33m\u001b[0m\u001b[0m\n\u001b[1;32m----> 2\u001b[1;33m     \u001b[1;32mif\u001b[0m \u001b[0mx\u001b[0m \u001b[1;33m<\u001b[0m \u001b[1;36m0\u001b[0m\u001b[1;33m:\u001b[0m\u001b[1;33m\u001b[0m\u001b[0m\n\u001b[0m\u001b[0;32m      3\u001b[0m         \u001b[1;32mreturn\u001b[0m\u001b[1;33m(\u001b[0m\u001b[1;34m'negative'\u001b[0m\u001b[1;33m)\u001b[0m\u001b[1;33m\u001b[0m\u001b[0m\n\u001b[0;32m      4\u001b[0m     \u001b[1;32melse\u001b[0m\u001b[1;33m:\u001b[0m\u001b[1;33m\u001b[0m\u001b[0m\n\u001b[0;32m      5\u001b[0m         \u001b[1;32mreturn\u001b[0m\u001b[1;33m(\u001b[0m\u001b[1;34m'positive'\u001b[0m\u001b[1;33m)\u001b[0m\u001b[1;33m\u001b[0m\u001b[0m\n",
      "\u001b[1;31mTypeError\u001b[0m: unorderable types: str() < int()"
     ]
    }
   ],
   "source": [
    "myfunc('a')"
   ]
  },
  {
   "cell_type": "code",
   "execution_count": 49,
   "metadata": {},
   "outputs": [
    {
     "name": "stdout",
     "output_type": "stream",
     "text": [
      "> \u001b[1;32m<ipython-input-45-aca40746f1d8>\u001b[0m(2)\u001b[0;36mmyfunc\u001b[1;34m()\u001b[0m\n",
      "\u001b[1;32m      1 \u001b[1;33m\u001b[1;32mdef\u001b[0m \u001b[0mmyfunc\u001b[0m\u001b[1;33m(\u001b[0m\u001b[0mx\u001b[0m\u001b[1;33m)\u001b[0m\u001b[1;33m:\u001b[0m\u001b[1;33m\u001b[0m\u001b[0m\n",
      "\u001b[0m\u001b[1;32m----> 2 \u001b[1;33m    \u001b[1;32mif\u001b[0m \u001b[0mx\u001b[0m \u001b[1;33m<\u001b[0m \u001b[1;36m0\u001b[0m\u001b[1;33m:\u001b[0m\u001b[1;33m\u001b[0m\u001b[0m\n",
      "\u001b[0m\u001b[1;32m      3 \u001b[1;33m        \u001b[1;32mreturn\u001b[0m\u001b[1;33m(\u001b[0m\u001b[1;34m'negative'\u001b[0m\u001b[1;33m)\u001b[0m\u001b[1;33m\u001b[0m\u001b[0m\n",
      "\u001b[0m\u001b[1;32m      4 \u001b[1;33m    \u001b[1;32melse\u001b[0m\u001b[1;33m:\u001b[0m\u001b[1;33m\u001b[0m\u001b[0m\n",
      "\u001b[0m\u001b[1;32m      5 \u001b[1;33m        \u001b[1;32mreturn\u001b[0m\u001b[1;33m(\u001b[0m\u001b[1;34m'positive'\u001b[0m\u001b[1;33m)\u001b[0m\u001b[1;33m\u001b[0m\u001b[0m\n",
      "\u001b[0m\n",
      "\u0001\u0002ipdb> \u0001\u0002x\n",
      "'a'\n",
      "\u0001\u0002ipdb> \u0001\u0002q\n"
     ]
    }
   ],
   "source": [
    "%debug"
   ]
  },
  {
   "cell_type": "markdown",
   "metadata": {
    "slideshow": {
     "slide_type": "-"
    }
   },
   "source": [
    "# Matplotlib"
   ]
  },
  {
   "cell_type": "markdown",
   "metadata": {},
   "source": [
    "## Online Documentation\n",
    "The [matplotlib.org](http://matplotlib.org) project website is the primary online resource for the library's documentation. It contains [examples](http://matplotlib.org/examples/index.html), [FAQs](http://matplotlib.org/faq/index.html), [API documentation](http://matplotlib.org/api/index.html), and, most importantly, the [gallery](http://matplotlib.org/gallery.html).\n",
    "\n",
    "## Gallery\n",
    "Many users of Matplotlib are often faced with the question, \"I want to make a figure that has X with Y in the same figure, but it needs to look like Z\". Good luck getting an answer from a web search with that query! This is why the [gallery](http://matplotlib.org/gallery.html) is so useful, because it showcases the variety of ways one can make figures. Browse through the gallery, click on any figure that has pieces of what you want to see and the code that generated it. Soon enough, you will be like a chef, mixing and matching components to produce your masterpiece!"
   ]
  },
  {
   "cell_type": "code",
   "execution_count": 50,
   "metadata": {
    "collapsed": true
   },
   "outputs": [],
   "source": [
    "import numpy as np\n",
    "import matplotlib.pyplot as plt\n",
    "%matplotlib inline"
   ]
  },
  {
   "cell_type": "code",
   "execution_count": 51,
   "metadata": {},
   "outputs": [
    {
     "data": {
      "text/plain": [
       "<matplotlib.figure.Figure at 0x1791d337a90>"
      ]
     },
     "metadata": {},
     "output_type": "display_data"
    }
   ],
   "source": [
    "fig = plt.figure()"
   ]
  },
  {
   "cell_type": "code",
   "execution_count": 52,
   "metadata": {},
   "outputs": [
    {
     "data": {
      "text/plain": [
       "<matplotlib.figure.Figure at 0x1791d410a58>"
      ]
     },
     "metadata": {},
     "output_type": "display_data"
    }
   ],
   "source": [
    "# Twice as tall as it is wide:\n",
    "fig = plt.figure(figsize=plt.figaspect(2.0))\n",
    "plt.show()"
   ]
  },
  {
   "cell_type": "code",
   "execution_count": 53,
   "metadata": {},
   "outputs": [
    {
     "data": {
      "image/png": "[encoded data removed]",
      "text/plain": [
       "<matplotlib.figure.Figure at 0x1791d414860>"
      ]
     },
     "metadata": {},
     "output_type": "display_data"
    }
   ],
   "source": [
    "fig = plt.figure()\n",
    "ax = fig.add_subplot(111) # We'll explain the \"111\" later. Basically, 1 row and 1 column.\n",
    "ax.set(xlim=[0.5, 4.5], ylim=[-2, 8], title='An Example Axes',\n",
    "       ylabel='Y-Axis', xlabel='X-Axis')\n",
    "plt.show()"
   ]
  },
  {
   "cell_type": "code",
   "execution_count": 54,
   "metadata": {},
   "outputs": [
    {
     "data": {
      "image/png": "[encoded data removed]",
      "text/plain": [
       "<matplotlib.figure.Figure at 0x1791d463c50>"
      ]
     },
     "metadata": {},
     "output_type": "display_data"
    }
   ],
   "source": [
    "fig = plt.figure()\n",
    "ax = fig.add_subplot(111)\n",
    "ax.plot([1, 2, 3, 4], [10, 20, 25, 30], color='lightblue', linewidth=3)\n",
    "ax.scatter([0.3, 3.8, 1.2, 2.5], [11, 25, 9, 26], color='darkgreen', marker='^')\n",
    "ax.set_xlim(0.5, 4.5)\n",
    "plt.show()\n",
    "# object-oriented interface removes ambiguity.  Explicitly defines everything you want."
   ]
  },
  {
   "cell_type": "code",
   "execution_count": 55,
   "metadata": {},
   "outputs": [
    {
     "data": {
      "image/png": "[encoded data removed]",
      "text/plain": [
       "<matplotlib.figure.Figure at 0x1796714eac8>"
      ]
     },
     "metadata": {},
     "output_type": "display_data"
    }
   ],
   "source": [
    "fig, axes = plt.subplots(nrows=2, ncols=2)\n",
    "plt.show()"
   ]
  },
  {
   "cell_type": "code",
   "execution_count": 56,
   "metadata": {},
   "outputs": [
    {
     "data": {
      "image/png": "[encoded data removed]",
      "text/plain": [
       "<matplotlib.figure.Figure at 0x1791d43b9b0>"
      ]
     },
     "metadata": {},
     "output_type": "display_data"
    }
   ],
   "source": [
    "fig, axes = plt.subplots(nrows=2, ncols=2)\n",
    "axes[0,0].set(title='Upper Left')\n",
    "axes[0,1].set(title='Upper Right')\n",
    "axes[1,0].set(title='Lower Left')\n",
    "axes[1,1].set(title='Lower Right')\n",
    "\n",
    "# To iterate over all items in a multidimensional numpy array, use the `flat` attribute\n",
    "for ax in axes.flat:\n",
    "    # Remove all xticks and yticks...\n",
    "    ax.set(xticks=[], yticks=[])\n",
    "    \n",
    "plt.show()"
   ]
  },
  {
   "cell_type": "markdown",
   "metadata": {},
   "source": [
    "### Quick Exercise:"
   ]
  },
  {
   "cell_type": "code",
   "execution_count": 57,
   "metadata": {},
   "outputs": [
    {
     "data": {
      "image/png": "[encoded data removed]",
      "text/plain": [
       "<matplotlib.figure.Figure at 0x1791d6a8ba8>"
      ]
     },
     "metadata": {},
     "output_type": "display_data"
    }
   ],
   "source": [
    "fig, axes = plt.subplots(nrows=3, ncols=1)\n",
    "\n",
    "# To iterate over all items in a multidimensional numpy array, use the `flat` attribute\n",
    "for ax in axes.flat:\n",
    "    # Remove all xticks and yticks...\n",
    "    ax.set(xticks=[], yticks=[])\n",
    "    \n",
    "axes.flat[0].plot([1, 2, 3, 4], [10, 20, 25, 30])\n",
    "axes.flat[0].set_title('Signal1')\n",
    "axes.flat[1].plot([1, 2, 3, 4], [10, 20, 25, 30])\n",
    "axes.flat[1].set_title('Signal2')\n",
    "axes.flat[2].plot([1, 2, 3, 4], [10, 20, 25, 30])\n",
    "axes.flat[2].set_title('Signal3')\n",
    "plt.tight_layout()\n",
    "plt.show()"
   ]
  },
  {
   "cell_type": "code",
   "execution_count": null,
   "metadata": {
    "collapsed": true
   },
   "outputs": [],
   "source": [
    "np.random.seed(1)\n",
    "y = np.random.randn(100).cumsum()\n",
    "x = np.linspace(0, 10, 100)\n",
    "\n",
    "fig, ax = plt.subplots()\n",
    "ax.fill_between(x, y, color='lightblue')\n",
    "plt.show()"
   ]
  },
  {
   "cell_type": "markdown",
   "metadata": {},
   "source": [
    "# Exercise 2.1:\n",
    "\n",
    "Now let's try combining `bar` and `fill_between` to make a nice prediction of what will happen as this class progresses:"
   ]
  },
  {
   "cell_type": "code",
   "execution_count": null,
   "metadata": {
    "collapsed": true
   },
   "outputs": [],
   "source": [
    "import numpy as np\n",
    "import matplotlib.pyplot as plt\n",
    "np.random.seed(1)\n",
    "\n",
    "# Generate data...\n",
    "y_raw = np.random.randn(1000).cumsum() + 15\n",
    "x_raw = np.linspace(0, 24, y_raw.size)\n",
    "\n",
    "# Get averages of every 100 samples...\n",
    "x_pos = x_raw.reshape(-1, 100).min(axis=1)\n",
    "y_avg = y_raw.reshape(-1, 100).mean(axis=1)\n",
    "y_err = y_raw.reshape(-1, 100).ptp(axis=1)\n",
    "\n",
    "bar_width = x_pos[1] - x_pos[0]\n",
    "\n",
    "# Make a made up future prediction with a fake confidence\n",
    "x_pred = np.linspace(0, 30)\n",
    "y_max_pred = y_avg[0] + y_err[0] + 2.3 * x_pred\n",
    "y_min_pred = y_avg[0] - y_err[0] + 1.2 * x_pred\n",
    "\n",
    "# Just so you don't have to guess at the colors...\n",
    "barcolor, linecolor, fillcolor = 'wheat', 'salmon', 'lightblue'\n",
    "\n",
    "# Now you're on your own!\n"
   ]
  },
  {
   "cell_type": "code",
   "execution_count": null,
   "metadata": {
    "collapsed": true
   },
   "outputs": [],
   "source": [
    "fig, ax = plt.subplots()\n",
    "\n",
    "# Plot the envelope with `fill_between`\n",
    "ax.fill_between(x_pred, y_min_pred, y_max_pred, color=fillcolor)\n",
    "\n",
    "# Plot the \"centerline\" with `plot`\n",
    "ax.plot(x_raw, y_raw, color=linecolor)\n",
    "\n",
    "# Plot the bar plots with bar\n",
    "ax.bar(x_pos, y_avg, width=bar_width, color=barcolor, yerr = y_err, ecolor = 'gray', edgecolor='gray',\n",
    "      align='center' # 'edge' is default in 1.5 mpl, but default is 'center' in 2.0\n",
    "      )\n",
    "\n",
    "plt.show()"
   ]
  },
  {
   "cell_type": "code",
   "execution_count": null,
   "metadata": {
    "collapsed": true
   },
   "outputs": [],
   "source": []
  }
 ],
 "metadata": {
  "anaconda-cloud": {},
  "kernelspec": {
   "display_name": "Python [Root]",
   "language": "python",
   "name": "Python [Root]"
  },
  "language_info": {
   "codemirror_mode": {
    "name": "ipython",
    "version": 3
   },
   "file_extension": ".py",
   "mimetype": "text/x-python",
   "name": "python",
   "nbconvert_exporter": "python",
   "pygments_lexer": "ipython3",
   "version": "3.5.2"
  }
 },
 "nbformat": 4,
 "nbformat_minor": 2
}
